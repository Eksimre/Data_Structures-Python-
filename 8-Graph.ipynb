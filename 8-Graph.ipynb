{
 "cells": [
  {
   "cell_type": "markdown",
   "metadata": {},
   "source": [
    "# Graph"
   ]
  },
  {
   "cell_type": "markdown",
   "metadata": {},
   "source": [
    "* Adjacency List"
   ]
  },
  {
   "cell_type": "code",
   "execution_count": 1,
   "metadata": {},
   "outputs": [],
   "source": [
    "class Graph:\n",
    "\n",
    "    def __init__(self):\n",
    "        self. adj_dict = {}\n",
    "    \n",
    "    def add_node(self, node):\n",
    "        if node != self.adj_dict.keys():\n",
    "            self.adj_dict[node] = []\n",
    "            return True\n",
    "        else:\n",
    "            return False\n",
    "    \n",
    "    def add_edge(self, n1, n2):\n",
    "        if n1 in self.adj_dict.keys() and n2 in self.adj_dict.keys():\n",
    "            self.adj_dict[n1].append(n2)\n",
    "            self.adj_dict[n2].append(n1)\n",
    "            return True\n",
    "        else:\n",
    "            return False\n",
    "    \n",
    "    def remove_edge(self, n1, n2):\n",
    "        if n1 in self.adj_dict.keys() and n2 in self.adj_dict.keys():\n",
    "            try:\n",
    "                self.adj_dict[n1].remove(n2)\n",
    "                self.adj_dict[n2].remove(n1)\n",
    "            except ValueError:\n",
    "                pass\n",
    "            return True\n",
    "        else:\n",
    "            return False\n",
    "        \n",
    "    def remove_node(self, node):\n",
    "        if node in self.adj_dict.keys():\n",
    "            for related_node in self.adj_dict[node]:\n",
    "                self.adj_dict[related_node].remove(node)\n",
    "            del self.adj_dict[node]\n",
    "            return True\n",
    "        else:\n",
    "            return False\n",
    "        \n",
    "    def print_graph(self):\n",
    "        for node in self.adj_dict:\n",
    "            print(node, \"->\", self.adj_dict[node])\n",
    "\n"
   ]
  },
  {
   "cell_type": "code",
   "execution_count": 2,
   "metadata": {},
   "outputs": [
    {
     "name": "stdout",
     "output_type": "stream",
     "text": [
      "ist -> ['ams', 'cdg', 'jfk']\n",
      "ams -> ['ist', 'cdg', 'jfk']\n",
      "cdg -> ['ist', 'ams', 'jfk']\n",
      "jfk -> ['ist', 'ams', 'cdg']\n"
     ]
    }
   ],
   "source": [
    "my_graph = Graph()\n",
    "my_graph.add_node(\"ist\")\n",
    "my_graph.add_node(\"ams\")\n",
    "my_graph.add_node(\"cdg\")\n",
    "my_graph.add_node(\"jfk\")\n",
    "\n",
    "my_graph.add_edge(\"ist\",\"ams\")\n",
    "my_graph.add_edge(\"ist\",\"cdg\")\n",
    "my_graph.add_edge(\"ist\",\"jfk\")\n",
    "my_graph.add_edge(\"ams\",\"cdg\")\n",
    "my_graph.add_edge(\"ams\",\"jfk\")\n",
    "my_graph.add_edge(\"cdg\",\"jfk\")\n",
    "\n",
    "my_graph.print_graph()"
   ]
  },
  {
   "cell_type": "code",
   "execution_count": 3,
   "metadata": {},
   "outputs": [
    {
     "name": "stdout",
     "output_type": "stream",
     "text": [
      "ist -> ['ams', 'cdg', 'jfk']\n",
      "ams -> ['ist', 'cdg', 'jfk']\n",
      "cdg -> ['ist', 'ams', 'jfk']\n",
      "jfk -> ['ist', 'ams', 'cdg']\n"
     ]
    }
   ],
   "source": [
    "#my_graph.remove_node(\"jfk\")\n",
    "my_graph.print_graph()"
   ]
  },
  {
   "cell_type": "code",
   "execution_count": 4,
   "metadata": {},
   "outputs": [
    {
     "name": "stdout",
     "output_type": "stream",
     "text": [
      "ist -> ['ams', 'jfk']\n",
      "ams -> ['ist', 'cdg', 'jfk']\n",
      "cdg -> ['ams']\n",
      "jfk -> ['ist', 'ams']\n"
     ]
    }
   ],
   "source": [
    "my_graph.remove_edge(\"ist\", \"cdg\")\n",
    "my_graph.remove_edge(\"cdg\", \"jfk\")\n",
    "my_graph.print_graph()"
   ]
  },
  {
   "cell_type": "markdown",
   "metadata": {},
   "source": [
    "-------------------------------"
   ]
  }
 ],
 "metadata": {
  "kernelspec": {
   "display_name": "base",
   "language": "python",
   "name": "python3"
  },
  "language_info": {
   "codemirror_mode": {
    "name": "ipython",
    "version": 3
   },
   "file_extension": ".py",
   "mimetype": "text/x-python",
   "name": "python",
   "nbconvert_exporter": "python",
   "pygments_lexer": "ipython3",
   "version": "3.9.17"
  }
 },
 "nbformat": 4,
 "nbformat_minor": 2
}
