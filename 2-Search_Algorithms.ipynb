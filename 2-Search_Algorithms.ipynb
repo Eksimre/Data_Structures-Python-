{
 "cells": [
  {
   "cell_type": "markdown",
   "metadata": {},
   "source": [
    "* Search Algorithms\n",
    "    * Sequential Search ---> (Time Com. O(n), Space Com. O(1))\n",
    "    * Binary Search ---> (Time Com. O(log(n)), Space Com. O(1))"
   ]
  },
  {
   "cell_type": "markdown",
   "metadata": {},
   "source": [
    "--------------------"
   ]
  },
  {
   "cell_type": "markdown",
   "metadata": {},
   "source": [
    "### Sequential Search"
   ]
  },
  {
   "cell_type": "code",
   "execution_count": 17,
   "metadata": {},
   "outputs": [
    {
     "data": {
      "text/plain": [
       "True"
      ]
     },
     "execution_count": 17,
     "metadata": {},
     "output_type": "execute_result"
    }
   ],
   "source": [
    "class SearchAlgorithms:\n",
    "\n",
    "    def sequentialSearch(self, list, target):\n",
    "        for i in range(len(list)):\n",
    "            if list[i] == target:\n",
    "                return True\n",
    "        return False\n",
    "\n",
    "list = [5,42,72,7,99,1,10,14,9]\n",
    "\n",
    "searchS = SearchAlgorithms()\n",
    "searchS.sequentialSearch(list, 10)"
   ]
  },
  {
   "cell_type": "markdown",
   "metadata": {},
   "source": [
    "-----------------"
   ]
  },
  {
   "cell_type": "markdown",
   "metadata": {},
   "source": [
    "### Binary Search"
   ]
  },
  {
   "cell_type": "code",
   "execution_count": 18,
   "metadata": {},
   "outputs": [
    {
     "data": {
      "text/plain": [
       "True"
      ]
     },
     "execution_count": 18,
     "metadata": {},
     "output_type": "execute_result"
    }
   ],
   "source": [
    "class SearchAlgorithms:\n",
    "\n",
    "    def binarySearch(self, list, target):\n",
    "        firstPointer = 0\n",
    "        lastPointer = len(list) -1\n",
    "\n",
    "        while firstPointer <= lastPointer:\n",
    "            midPoint = (firstPointer + lastPointer) // 2\n",
    "\n",
    "            if list[midPoint] == target:\n",
    "                return True\n",
    "            elif list[midPoint] < target:\n",
    "                firstPointer = midPoint + 1\n",
    "            else:\n",
    "                lastPointer = midPoint -1\n",
    "        \n",
    "        return False\n",
    "\n",
    "list = [5,42,72,7,99,1,10,14,9]\n",
    "list.sort()\n",
    "\n",
    "searchB = SearchAlgorithms()\n",
    "searchB.binarySearch(list, 10)"
   ]
  },
  {
   "cell_type": "markdown",
   "metadata": {},
   "source": [
    "----------------------------------------------------"
   ]
  },
  {
   "cell_type": "markdown",
   "metadata": {},
   "source": [
    "### Let's look at the efficiency of these two search algorithms"
   ]
  },
  {
   "cell_type": "code",
   "execution_count": 20,
   "metadata": {},
   "outputs": [
    {
     "name": "stdout",
     "output_type": "stream",
     "text": [
      "Sequential Search / Total lapsed time: 1.3346459866 second\n",
      "Binary Search / Total elapsed time: 0.0005006790 second\n"
     ]
    }
   ],
   "source": [
    "import time\n",
    "import random\n",
    "\n",
    "# I generate 100 numbers sorted from 1 to 1000000\n",
    "list = sorted(random.sample(range(1, 1000001), 1000000))\n",
    "random_number = random.sample(list,100)\n",
    "\n",
    "# I ran the codes 100 times each\n",
    "x = y = 0\n",
    "a = b = 0\n",
    "while x != 100:\n",
    "     \n",
    "    start_time_S = time.time()\n",
    "    searchS.sequentialSearch(list, random_number[x])\n",
    "    end_time_S = time.time()   \n",
    "    execution_time_S = end_time_S - start_time_S\n",
    "\n",
    "    x += 1\n",
    "    y += execution_time_S \n",
    "       \n",
    "while a != 100:      \n",
    "    start_time_B = time.time()\n",
    "    searchB.binarySearch(list, random_number[a])\n",
    "    end_time_B = time.time()\n",
    "    execution_time_B = end_time_B - start_time_B\n",
    "\n",
    "    a += 1\n",
    "    b += execution_time_B\n",
    "        \n",
    "    \n",
    "print(f\"Sequential Search / Total lapsed time: {y:.10f} second\")\n",
    "print(f\"Binary Search / Total elapsed time: {b:.10f} second\")"
   ]
  },
  {
   "cell_type": "markdown",
   "metadata": {},
   "source": [
    "--------------------------"
   ]
  }
 ],
 "metadata": {
  "kernelspec": {
   "display_name": "base",
   "language": "python",
   "name": "python3"
  },
  "language_info": {
   "codemirror_mode": {
    "name": "ipython",
    "version": 3
   },
   "file_extension": ".py",
   "mimetype": "text/x-python",
   "name": "python",
   "nbconvert_exporter": "python",
   "pygments_lexer": "ipython3",
   "version": "3.9.17"
  }
 },
 "nbformat": 4,
 "nbformat_minor": 2
}
