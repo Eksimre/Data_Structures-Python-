{
 "cells": [
  {
   "cell_type": "markdown",
   "metadata": {},
   "source": [
    "# Linked List\n"
   ]
  },
  {
   "cell_type": "markdown",
   "metadata": {},
   "source": [
    "* Singele Linked List"
   ]
  },
  {
   "cell_type": "code",
   "execution_count": 18,
   "metadata": {},
   "outputs": [],
   "source": [
    "class Node:\n",
    "    \n",
    "    def __init__(self, value=None, next=None):\n",
    "        self.value = value\n",
    "        self.next = next\n",
    "    \n",
    "class Single_link_list:\n",
    "    \n",
    "    def __init__(self, head=None):\n",
    "        self.head = head\n",
    "\n",
    "    def insert(self, value):\n",
    "        new_node = Node(value)\n",
    "\n",
    "        if self.head == None:\n",
    "            self.head = new_node\n",
    "        else:\n",
    "            current = self.head\n",
    "            while(current.next != None):\n",
    "                current = current.next\n",
    "            else:\n",
    "                current.next = new_node\n",
    "        \n",
    "    def count(self):\n",
    "        counter = 0\n",
    "        current = self.head\n",
    "\n",
    "        while(current != None):\n",
    "            counter += 1\n",
    "            current = current.next\n",
    "        \n",
    "        return counter\n",
    "\n",
    "    def  delete(self, index):\n",
    "        if self.count() < index:\n",
    "            return False\n",
    "        \n",
    "        if index == 1:\n",
    "            self.head = self.head.next\n",
    "        \n",
    "        current = self.head\n",
    "\n",
    "        for i in range(index-1):\n",
    "            prev = current\n",
    "            current = current.next\n",
    "\n",
    "        prev.next = current.next\n",
    "\n",
    "    def is_empyt(self):\n",
    "        return self.head == None \n",
    "\n",
    "\n",
    "    def print_list(self):\n",
    "        current = self.head\n",
    "        while(current != None):\n",
    "            print(current.value, \"->\")  \n",
    "            current = current.next\n",
    "        \n",
    "\n",
    "        "
   ]
  },
  {
   "cell_type": "code",
   "execution_count": 19,
   "metadata": {},
   "outputs": [
    {
     "name": "stdout",
     "output_type": "stream",
     "text": [
      "1 ->\n",
      "3 ->\n",
      "5 ->\n"
     ]
    }
   ],
   "source": [
    "linked_l = Single_link_list()\n",
    "\n",
    "linked_l.insert(1)\n",
    "linked_l.insert(3)\n",
    "linked_l.insert(5)\n",
    "linked_l.print_list()"
   ]
  },
  {
   "cell_type": "code",
   "execution_count": 20,
   "metadata": {},
   "outputs": [
    {
     "name": "stdout",
     "output_type": "stream",
     "text": [
      "1 ->\n",
      "5 ->\n"
     ]
    }
   ],
   "source": [
    "linked_l.delete(2)\n",
    "linked_l.print_list()"
   ]
  },
  {
   "cell_type": "code",
   "execution_count": 21,
   "metadata": {},
   "outputs": [
    {
     "data": {
      "text/plain": [
       "False"
      ]
     },
     "execution_count": 21,
     "metadata": {},
     "output_type": "execute_result"
    }
   ],
   "source": [
    "linked_l.is_empyt()"
   ]
  },
  {
   "cell_type": "code",
   "execution_count": 22,
   "metadata": {},
   "outputs": [
    {
     "data": {
      "text/plain": [
       "2"
      ]
     },
     "execution_count": 22,
     "metadata": {},
     "output_type": "execute_result"
    }
   ],
   "source": [
    "linked_l.count()"
   ]
  },
  {
   "cell_type": "markdown",
   "metadata": {},
   "source": [
    "----------------"
   ]
  },
  {
   "cell_type": "markdown",
   "metadata": {},
   "source": [
    "* Doubly Linked List"
   ]
  },
  {
   "cell_type": "code",
   "execution_count": 23,
   "metadata": {},
   "outputs": [],
   "source": [
    "class Node:\n",
    "\n",
    "    def __init__(self, value=None, next=None, prev=None):\n",
    "        self.value = value\n",
    "        self.next = next\n",
    "        self.prev = prev\n",
    "\n",
    "class Doubly_link_list:\n",
    "    \n",
    "    def __init__(self, head=None):\n",
    "        self.head = head\n",
    "\n",
    "    def insert(self, value):\n",
    "        new_node = Node(value)\n",
    "\n",
    "        if self.head == None:\n",
    "            self.head = new_node\n",
    "        else:\n",
    "            current = self.head\n",
    "            while(current.next != None):\n",
    "                current = current.next\n",
    "            else:\n",
    "                current.next = new_node\n",
    "                new_node.prev = current\n",
    "    \n",
    "    def print_list(self):\n",
    "        current = self.head\n",
    "        while(current != None):\n",
    "            print(current.value, \"<->\")  \n",
    "            current = current.next\n"
   ]
  },
  {
   "cell_type": "code",
   "execution_count": 24,
   "metadata": {},
   "outputs": [
    {
     "name": "stdout",
     "output_type": "stream",
     "text": [
      "1 <->\n",
      "3 <->\n",
      "5 <->\n"
     ]
    }
   ],
   "source": [
    "linked_l = Doubly_link_list()\n",
    "\n",
    "linked_l.insert(1)\n",
    "linked_l.insert(3)\n",
    "linked_l.insert(5)\n",
    "linked_l.print_list()"
   ]
  },
  {
   "cell_type": "markdown",
   "metadata": {},
   "source": [
    "-------------------"
   ]
  }
 ],
 "metadata": {
  "kernelspec": {
   "display_name": "base",
   "language": "python",
   "name": "python3"
  },
  "language_info": {
   "codemirror_mode": {
    "name": "ipython",
    "version": 3
   },
   "file_extension": ".py",
   "mimetype": "text/x-python",
   "name": "python",
   "nbconvert_exporter": "python",
   "pygments_lexer": "ipython3",
   "version": "3.9.17"
  }
 },
 "nbformat": 4,
 "nbformat_minor": 2
}
