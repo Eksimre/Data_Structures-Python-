{
 "cells": [
  {
   "cell_type": "markdown",
   "metadata": {},
   "source": [
    "### Binary Search Tree ---> Avrerage Time Complexity O(log(n))"
   ]
  },
  {
   "cell_type": "code",
   "execution_count": 1,
   "metadata": {},
   "outputs": [],
   "source": [
    "class Node:\n",
    "\n",
    "    def __init__(self, value):\n",
    "        \n",
    "        self.value = value\n",
    "        self.left = None\n",
    "        self.right = None\n",
    "\n",
    "class BinarySearchTree:\n",
    "\n",
    "    def __init__(self):\n",
    "        self.root = None\n",
    "    \n",
    "    def insert(self, value):\n",
    "        new_node = Node(value)\n",
    "\n",
    "        if self.root == None:\n",
    "            self.root = new_node\n",
    "            return True\n",
    "        \n",
    "        temp_Node = self.root\n",
    "        \n",
    "        while True:\n",
    "\n",
    "            if new_node.value == temp_Node.value:\n",
    "                return False\n",
    "\n",
    "            if new_node.value < temp_Node.value:\n",
    "                if temp_Node.left == None:\n",
    "                    temp_Node.left = new_node\n",
    "                    return True\n",
    "                else:\n",
    "                    temp_Node = temp_Node.left\n",
    "            \n",
    "            else:\n",
    "                if temp_Node.right == None:\n",
    "                    temp_Node.right = new_node\n",
    "                    return True\n",
    "                else:\n",
    "                    temp_Node = temp_Node.right\n",
    "                    \n",
    "    def contains(self, value):\n",
    "        temp_Node = self.root\n",
    "\n",
    "        while temp_Node != None:\n",
    "            if value < temp_Node.value:\n",
    "                temp_Node = temp_Node.left\n",
    "            elif value > temp_Node.value:\n",
    "                temp_Node = temp_Node.right\n",
    "            else:\n",
    "                return True\n",
    "        return False\n",
    "    \n",
    "    def minNode(self, min_Node):\n",
    "        while min_Node.left != None:\n",
    "            min_Node = min_Node.left\n",
    "        return min_Node\n",
    "    \n",
    "    def maxNode(self, max_Node):\n",
    "        while max_Node.right != None:\n",
    "            max_Node = max_Node.right\n",
    "        return max_Node"
   ]
  },
  {
   "cell_type": "code",
   "execution_count": 2,
   "metadata": {},
   "outputs": [
    {
     "data": {
      "text/plain": [
       "True"
      ]
     },
     "execution_count": 2,
     "metadata": {},
     "output_type": "execute_result"
    }
   ],
   "source": [
    "myTree = BinarySearchTree()\n",
    "myTree.insert(35)\n",
    "myTree.insert(31)\n",
    "myTree.insert(25)\n",
    "myTree.insert(7)\n",
    "myTree.insert(93)\n",
    "myTree.insert(11)\n",
    "myTree.insert(3)\n",
    "myTree.insert(106)"
   ]
  },
  {
   "cell_type": "code",
   "execution_count": 3,
   "metadata": {},
   "outputs": [
    {
     "data": {
      "text/plain": [
       "False"
      ]
     },
     "execution_count": 3,
     "metadata": {},
     "output_type": "execute_result"
    }
   ],
   "source": [
    "myTree.insert(35)"
   ]
  },
  {
   "cell_type": "code",
   "execution_count": 4,
   "metadata": {},
   "outputs": [
    {
     "data": {
      "text/plain": [
       "93"
      ]
     },
     "execution_count": 4,
     "metadata": {},
     "output_type": "execute_result"
    }
   ],
   "source": [
    "myTree.root.right.value"
   ]
  },
  {
   "cell_type": "code",
   "execution_count": 5,
   "metadata": {},
   "outputs": [
    {
     "data": {
      "text/plain": [
       "25"
      ]
     },
     "execution_count": 5,
     "metadata": {},
     "output_type": "execute_result"
    }
   ],
   "source": [
    "myTree.root.left.left.value"
   ]
  },
  {
   "cell_type": "code",
   "execution_count": 6,
   "metadata": {},
   "outputs": [
    {
     "data": {
      "text/plain": [
       "True"
      ]
     },
     "execution_count": 6,
     "metadata": {},
     "output_type": "execute_result"
    }
   ],
   "source": [
    "myTree.contains(3)"
   ]
  },
  {
   "cell_type": "code",
   "execution_count": 7,
   "metadata": {},
   "outputs": [
    {
     "data": {
      "text/plain": [
       "False"
      ]
     },
     "execution_count": 7,
     "metadata": {},
     "output_type": "execute_result"
    }
   ],
   "source": [
    "myTree.contains(13)"
   ]
  },
  {
   "cell_type": "code",
   "execution_count": 8,
   "metadata": {},
   "outputs": [
    {
     "data": {
      "text/plain": [
       "3"
      ]
     },
     "execution_count": 8,
     "metadata": {},
     "output_type": "execute_result"
    }
   ],
   "source": [
    "myTree.minNode(myTree.root).value"
   ]
  },
  {
   "cell_type": "code",
   "execution_count": 9,
   "metadata": {},
   "outputs": [
    {
     "data": {
      "text/plain": [
       "106"
      ]
     },
     "execution_count": 9,
     "metadata": {},
     "output_type": "execute_result"
    }
   ],
   "source": [
    "myTree.maxNode(myTree.root).value"
   ]
  },
  {
   "cell_type": "markdown",
   "metadata": {},
   "source": [
    "-------------------------"
   ]
  },
  {
   "cell_type": "markdown",
   "metadata": {},
   "source": [
    "### Tree Traversal\n",
    "* Breadth First Search (BFS)\n",
    "* Depth First Search (DFS) "
   ]
  },
  {
   "cell_type": "markdown",
   "metadata": {},
   "source": [
    "### BFS Code"
   ]
  },
  {
   "cell_type": "code",
   "execution_count": 10,
   "metadata": {},
   "outputs": [],
   "source": [
    "class Node:\n",
    "\n",
    "    def __init__(self, value):\n",
    "        \n",
    "        self.value = value\n",
    "        self.left = None\n",
    "        self.right = None\n",
    "\n",
    "class BinarySearchTree:\n",
    "\n",
    "    def __init__(self):\n",
    "\n",
    "        self.root = None\n",
    "    \n",
    "    def insert(self, value):\n",
    "\n",
    "        new_node = Node(value)\n",
    "\n",
    "        if self.root == None:\n",
    "            self.root = new_node\n",
    "            return True\n",
    "        \n",
    "        temp_Node = self.root\n",
    "        \n",
    "        while True:\n",
    "\n",
    "            if new_node.value == temp_Node.value:\n",
    "                return False\n",
    "\n",
    "            if new_node.value < temp_Node.value:\n",
    "                if temp_Node.left == None:\n",
    "                    temp_Node.left = new_node\n",
    "                    return True\n",
    "                else:\n",
    "                    temp_Node = temp_Node.left\n",
    "            \n",
    "            else:\n",
    "                if temp_Node.right == None:\n",
    "                    temp_Node.right = new_node\n",
    "                    return True\n",
    "                else:\n",
    "                    temp_Node = temp_Node.right\n",
    "    # With queue                \n",
    "    def BFS(self):\n",
    "        current_node = self.root\n",
    "        my_queue = []\n",
    "        values = []\n",
    "        my_queue.append(current_node)\n",
    "\n",
    "        while len(my_queue) > 0:\n",
    "            current_node = my_queue.pop(0)\n",
    "            values.append(current_node.value)\n",
    "\n",
    "            if current_node.left != None:\n",
    "                my_queue.append(current_node.left)\n",
    "\n",
    "            if current_node.right != None:\n",
    "                my_queue.append(current_node.right)\n",
    "        \n",
    "        return values"
   ]
  },
  {
   "cell_type": "code",
   "execution_count": 11,
   "metadata": {},
   "outputs": [
    {
     "data": {
      "text/plain": [
       "True"
      ]
     },
     "execution_count": 11,
     "metadata": {},
     "output_type": "execute_result"
    }
   ],
   "source": [
    "myTree = BinarySearchTree()\n",
    "myTree.insert(38)\n",
    "myTree.insert(19)\n",
    "myTree.insert(69)\n",
    "myTree.insert(12)\n",
    "myTree.insert(24)\n",
    "myTree.insert(59)\n",
    "myTree.insert(95)"
   ]
  },
  {
   "cell_type": "code",
   "execution_count": 12,
   "metadata": {},
   "outputs": [
    {
     "data": {
      "text/plain": [
       "[38, 19, 69, 12, 24, 59, 95]"
      ]
     },
     "execution_count": 12,
     "metadata": {},
     "output_type": "execute_result"
    }
   ],
   "source": [
    "myTree.BFS()"
   ]
  },
  {
   "cell_type": "markdown",
   "metadata": {},
   "source": [
    "-------------------"
   ]
  },
  {
   "cell_type": "markdown",
   "metadata": {},
   "source": [
    "### DFS Code\n",
    "* Pre Order\n",
    "* Post Order\n",
    "* In Order"
   ]
  },
  {
   "cell_type": "code",
   "execution_count": 13,
   "metadata": {},
   "outputs": [],
   "source": [
    "class Node:\n",
    "\n",
    "    def __init__(self, value):\n",
    "        \n",
    "        self.value = value\n",
    "        self.left = None\n",
    "        self.right = None\n",
    "\n",
    "class BinarySearchTree:\n",
    "\n",
    "    def __init__(self):\n",
    "\n",
    "        self.root = None\n",
    "    \n",
    "    def insert(self, value):\n",
    "\n",
    "        new_node = Node(value)\n",
    "\n",
    "        if self.root == None:\n",
    "            self.root = new_node\n",
    "            return True\n",
    "        \n",
    "        temp_Node = self.root\n",
    "        \n",
    "        while True:\n",
    "\n",
    "            if new_node.value == temp_Node.value:\n",
    "                return False\n",
    "\n",
    "            if new_node.value < temp_Node.value:\n",
    "                if temp_Node.left == None:\n",
    "                    temp_Node.left = new_node\n",
    "                    return True\n",
    "                else:\n",
    "                    temp_Node = temp_Node.left\n",
    "            \n",
    "            else:\n",
    "                if temp_Node.right == None:\n",
    "                    temp_Node.right = new_node\n",
    "                    return True\n",
    "                else:\n",
    "                    temp_Node = temp_Node.right\n",
    "\n",
    "    def DFSPreOrder(self):\n",
    "        values = []\n",
    "\n",
    "        def traverse(curent_node):\n",
    "            values.append(curent_node.value)\n",
    "            if curent_node.left != None:\n",
    "                traverse(curent_node.left)\n",
    "            if curent_node.right != None:\n",
    "                traverse(curent_node.right)\n",
    "        traverse(self.root)\n",
    "        return values\n",
    "    \n",
    "    def DFSPostOrder(self):\n",
    "        values = []\n",
    "\n",
    "        def traverse(curent_node): \n",
    "            if curent_node.left != None:\n",
    "                traverse(curent_node.left)\n",
    "            if curent_node.right != None:\n",
    "                traverse(curent_node.right)\n",
    "            values.append(curent_node.value)\n",
    "        traverse(self.root)\n",
    "        return values\n",
    "    \n",
    "    def DFSInOrder(self):\n",
    "        values = []\n",
    "\n",
    "        def traverse(curent_node):\n",
    "            if curent_node.left != None:\n",
    "                traverse(curent_node.left)\n",
    "            values.append(curent_node.value)\n",
    "            if curent_node.right != None:\n",
    "                traverse(curent_node.right)\n",
    "        traverse(self.root)\n",
    "        return values\n",
    "    \n",
    "\n",
    "            \n"
   ]
  },
  {
   "cell_type": "code",
   "execution_count": 14,
   "metadata": {},
   "outputs": [
    {
     "data": {
      "text/plain": [
       "True"
      ]
     },
     "execution_count": 14,
     "metadata": {},
     "output_type": "execute_result"
    }
   ],
   "source": [
    "myTree = BinarySearchTree()\n",
    "myTree.insert(38)\n",
    "myTree.insert(19)\n",
    "myTree.insert(69)\n",
    "myTree.insert(12)\n",
    "myTree.insert(24)\n",
    "myTree.insert(59)\n",
    "myTree.insert(95)"
   ]
  },
  {
   "cell_type": "code",
   "execution_count": 15,
   "metadata": {},
   "outputs": [
    {
     "data": {
      "text/plain": [
       "[38, 19, 12, 24, 69, 59, 95]"
      ]
     },
     "execution_count": 15,
     "metadata": {},
     "output_type": "execute_result"
    }
   ],
   "source": [
    "myTree.DFSPreOrder()"
   ]
  },
  {
   "cell_type": "code",
   "execution_count": 16,
   "metadata": {},
   "outputs": [
    {
     "data": {
      "text/plain": [
       "[12, 24, 19, 59, 95, 69, 38]"
      ]
     },
     "execution_count": 16,
     "metadata": {},
     "output_type": "execute_result"
    }
   ],
   "source": [
    "myTree.DFSPostOrder()"
   ]
  },
  {
   "cell_type": "code",
   "execution_count": 17,
   "metadata": {},
   "outputs": [
    {
     "data": {
      "text/plain": [
       "[12, 19, 24, 38, 59, 69, 95]"
      ]
     },
     "execution_count": 17,
     "metadata": {},
     "output_type": "execute_result"
    }
   ],
   "source": [
    "myTree.DFSInOrder()"
   ]
  },
  {
   "cell_type": "markdown",
   "metadata": {},
   "source": [
    "------------------"
   ]
  }
 ],
 "metadata": {
  "kernelspec": {
   "display_name": "base",
   "language": "python",
   "name": "python3"
  },
  "language_info": {
   "codemirror_mode": {
    "name": "ipython",
    "version": 3
   },
   "file_extension": ".py",
   "mimetype": "text/x-python",
   "name": "python",
   "nbconvert_exporter": "python",
   "pygments_lexer": "ipython3",
   "version": "3.9.17"
  }
 },
 "nbformat": 4,
 "nbformat_minor": 2
}
