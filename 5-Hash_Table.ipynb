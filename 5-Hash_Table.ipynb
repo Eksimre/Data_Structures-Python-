{
 "cells": [
  {
   "cell_type": "markdown",
   "metadata": {},
   "source": [
    "# Hash Table\n"
   ]
  },
  {
   "cell_type": "code",
   "execution_count": 1,
   "metadata": {},
   "outputs": [],
   "source": [
    "class HashTable():\n",
    "\n",
    "    def __init__(self, size):\n",
    "        self.table = [None] * size\n",
    "    \n",
    "    def hash_function(self, key):\n",
    "        return (hash(hash(key)) * 13) % len(self.table)\n",
    "    \n",
    "    def set_data(self, key, value):\n",
    "        index = self.hash_function(key)\n",
    "\n",
    "        if self.table[index] == None:\n",
    "            self.table[index] = []\n",
    "        self.table[index].append([key,value])\n",
    "\n",
    "    def get_data(self, key):\n",
    "        index = self.hash_function(key)\n",
    "\n",
    "        if self.table[index] != None:\n",
    "            for x,y in self.table[index]:\n",
    "                if x == key:\n",
    "                    return y\n",
    "        return None\n",
    "    \n",
    "    def get_keys(self):\n",
    "        keys = []\n",
    "        for index,value in enumerate(self.table):\n",
    "            if value != None:\n",
    "                for x in value:\n",
    "                    keys.append(x[1])   \n",
    "        return keys\n",
    "    \n",
    "    def printTable(self):\n",
    "        for index,value in enumerate(self.table):\n",
    "            print(index, \"->\", value)\n",
    "        "
   ]
  },
  {
   "cell_type": "code",
   "execution_count": 2,
   "metadata": {},
   "outputs": [],
   "source": [
    "data = HashTable(size=10)\n",
    "\n",
    "data.set_data(123, \"Ali\")\n",
    "data.set_data(321, \"Ayşe\")\n",
    "data.set_data(131, \"Fatma\")\n",
    "data.set_data(256, \"Hasan\")\n",
    "data.set_data(334, \"Veli\")"
   ]
  },
  {
   "cell_type": "code",
   "execution_count": 3,
   "metadata": {},
   "outputs": [
    {
     "name": "stdout",
     "output_type": "stream",
     "text": [
      "0 -> None\n",
      "1 -> None\n",
      "2 -> [[334, 'Veli']]\n",
      "3 -> [[321, 'Ayşe'], [131, 'Fatma']]\n",
      "4 -> None\n",
      "5 -> None\n",
      "6 -> None\n",
      "7 -> None\n",
      "8 -> [[256, 'Hasan']]\n",
      "9 -> [[123, 'Ali']]\n"
     ]
    }
   ],
   "source": [
    "data.printTable()"
   ]
  },
  {
   "cell_type": "code",
   "execution_count": 4,
   "metadata": {},
   "outputs": [
    {
     "data": {
      "text/plain": [
       "'Fatma'"
      ]
     },
     "execution_count": 4,
     "metadata": {},
     "output_type": "execute_result"
    }
   ],
   "source": [
    "data.get_data(131)"
   ]
  },
  {
   "cell_type": "code",
   "execution_count": 5,
   "metadata": {},
   "outputs": [
    {
     "data": {
      "text/plain": [
       "['Veli', 'Ayşe', 'Fatma', 'Hasan', 'Ali']"
      ]
     },
     "execution_count": 5,
     "metadata": {},
     "output_type": "execute_result"
    }
   ],
   "source": [
    "data.get_keys()"
   ]
  },
  {
   "cell_type": "markdown",
   "metadata": {},
   "source": [
    "----------"
   ]
  }
 ],
 "metadata": {
  "kernelspec": {
   "display_name": "base",
   "language": "python",
   "name": "python3"
  },
  "language_info": {
   "codemirror_mode": {
    "name": "ipython",
    "version": 3
   },
   "file_extension": ".py",
   "mimetype": "text/x-python",
   "name": "python",
   "nbconvert_exporter": "python",
   "pygments_lexer": "ipython3",
   "version": "3.9.17"
  }
 },
 "nbformat": 4,
 "nbformat_minor": 2
}
