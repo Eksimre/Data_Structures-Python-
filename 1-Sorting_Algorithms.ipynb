{
 "cells": [
  {
   "cell_type": "markdown",
   "metadata": {},
   "source": [
    "* **Some sorting algorithms** \n",
    "\n",
    "    * **Bubble sort**    --->(Worst / Time Com. O(n^2), Space Com. O(1))\n",
    "    * **Selection sort** --->(Worst / Time Com. O(n^2), Space Com. O(1))\n",
    "    * **Insertion sort** --->(Worst / Time Com. O(n^2), Space Com. O(1))\n",
    "    * **Merge sort**     --->(Worst / Time Com. O(n log(n)), Space Com. O(n))\n",
    "    * **Quick sort**     --->(Worst / Time Com. O(n log(n)), Space Com. O(log(n)))\n",
    "    * **Heap sort**      --->(Worst / Time Com. O(n log(n)), Space Com. O(1))"
   ]
  },
  {
   "cell_type": "markdown",
   "metadata": {},
   "source": [
    "---------------------"
   ]
  },
  {
   "cell_type": "markdown",
   "metadata": {},
   "source": [
    "### Bubbble Sort\n",
    "* Time complexity O(N^2) / Space complexity O(1)"
   ]
  },
  {
   "cell_type": "code",
   "execution_count": 2,
   "metadata": {},
   "outputs": [
    {
     "data": {
      "text/plain": [
       "[1, 5, 7, 9, 10, 14, 42, 72, 99]"
      ]
     },
     "execution_count": 2,
     "metadata": {},
     "output_type": "execute_result"
    }
   ],
   "source": [
    "class SortingAlgorithms:\n",
    "\n",
    "    def bubbleSort(self, list):\n",
    "        for i in range(len(list)-1):\n",
    "            for j in range(len(list)-i-1):\n",
    "                if list[j] > list[j+1]:\n",
    "                    list[j], list[j+1] = list[j+1], list[j]\n",
    "        return list\n",
    "\n",
    "sorting = SortingAlgorithms()\n",
    "sorting.bubbleSort([5,42,72,7,99,1,10,14,9])"
   ]
  },
  {
   "cell_type": "markdown",
   "metadata": {},
   "source": [
    "---------------"
   ]
  },
  {
   "cell_type": "markdown",
   "metadata": {},
   "source": [
    "### Selection Sort\n",
    "* Time complexity O(N^2) / Space complexity O(1)"
   ]
  },
  {
   "cell_type": "code",
   "execution_count": 3,
   "metadata": {},
   "outputs": [
    {
     "data": {
      "text/plain": [
       "[1, 5, 7, 9, 10, 14, 42, 72, 99]"
      ]
     },
     "execution_count": 3,
     "metadata": {},
     "output_type": "execute_result"
    }
   ],
   "source": [
    "class SortingAlgorithms:\n",
    "\n",
    "    def selectionSort(self, list):\n",
    "        for i in range(len(list)):\n",
    "            minIndex = i\n",
    "            for j in range(i+1, len(list)):\n",
    "                if list[minIndex] > list[j]:\n",
    "                    minIndex = j\n",
    "            list[i], list[minIndex] = list[minIndex], list[i]\n",
    "        return list\n",
    "\n",
    "sorting = SortingAlgorithms()\n",
    "sorting.selectionSort([5,42,72,7,99,1,10,14,9])"
   ]
  },
  {
   "cell_type": "markdown",
   "metadata": {},
   "source": [
    "------------------"
   ]
  },
  {
   "cell_type": "markdown",
   "metadata": {},
   "source": [
    "### Insertion Sort\n",
    "* Time complexity O(N^2) / Space complexity O(1)"
   ]
  },
  {
   "cell_type": "code",
   "execution_count": 4,
   "metadata": {},
   "outputs": [
    {
     "data": {
      "text/plain": [
       "[1, 5, 7, 9, 10, 14, 42, 72, 99]"
      ]
     },
     "execution_count": 4,
     "metadata": {},
     "output_type": "execute_result"
    }
   ],
   "source": [
    "class SortingAlgorithms:\n",
    "\n",
    "    def insertionSort(self, list):\n",
    "        for i in range(1, len(list)):\n",
    "            key = list[i]\n",
    "            j = i - 1\n",
    "            while j >= 0 and key < list[j]:\n",
    "                list[j+1] = list[j]\n",
    "                j -= 1\n",
    "                list[j+1] = key\n",
    "        return list\n",
    "    \n",
    "sorting = SortingAlgorithms()\n",
    "sorting.insertionSort([5,42,72,7,99,1,10,14,9])    "
   ]
  },
  {
   "cell_type": "markdown",
   "metadata": {},
   "source": [
    "--------------------------"
   ]
  },
  {
   "cell_type": "markdown",
   "metadata": {},
   "source": [
    "### Merge Sort\n",
    "* Time complexity O(N log(N)) / Space complexity O(N) "
   ]
  },
  {
   "cell_type": "code",
   "execution_count": 5,
   "metadata": {},
   "outputs": [
    {
     "data": {
      "text/plain": [
       "[1, 5, 7, 9, 10, 14, 42, 72, 99]"
      ]
     },
     "execution_count": 5,
     "metadata": {},
     "output_type": "execute_result"
    }
   ],
   "source": [
    "class SortingAlgorithms:\n",
    "\n",
    "    def mergeSort(self, list):\n",
    "\n",
    "        if len(list) > 1:\n",
    "            mid = len(list) // 2\n",
    "            left = self.mergeSort(list[:mid])  \n",
    "            right = self.mergeSort(list[mid:])\n",
    "\n",
    "            return self.merge(left, right)\n",
    "        else:\n",
    "            return list\n",
    "\n",
    "    def merge(self, left, right):\n",
    "\n",
    "        mergeList = []\n",
    "        firstPointer = secondPointer = 0\n",
    "\n",
    "        while firstPointer < len(left) and secondPointer < len(right):\n",
    "            if left[firstPointer] < right[secondPointer]:\n",
    "                mergeList.append(left[firstPointer])\n",
    "                firstPointer += 1\n",
    "            else:\n",
    "                mergeList.append(right[secondPointer])\n",
    "                secondPointer += 1\n",
    "           \n",
    "        while firstPointer < len(left):\n",
    "            mergeList.append(left[firstPointer])\n",
    "            firstPointer += 1\n",
    "\n",
    "        while secondPointer < len(right):\n",
    "            mergeList.append(right[secondPointer])\n",
    "            secondPointer += 1\n",
    "        \n",
    "        return mergeList\n",
    "\n",
    "sorting = SortingAlgorithms()\n",
    "sorting.mergeSort([5,42,72,7,99,1,10,14,9])"
   ]
  },
  {
   "cell_type": "markdown",
   "metadata": {},
   "source": [
    "-------------------------"
   ]
  },
  {
   "cell_type": "markdown",
   "metadata": {},
   "source": [
    "### Quick Sort\n",
    "* Time complexity O(N log(N)) / Space complexity O(log(N)) "
   ]
  },
  {
   "cell_type": "code",
   "execution_count": 6,
   "metadata": {},
   "outputs": [
    {
     "data": {
      "text/plain": [
       "[1, 5, 7, 9, 10, 14, 42, 72, 99]"
      ]
     },
     "execution_count": 6,
     "metadata": {},
     "output_type": "execute_result"
    }
   ],
   "source": [
    "class SortingAlgorithms:\n",
    "\n",
    "    def quickSort(self, list):\n",
    "        \n",
    "        if len(list) <= 1:\n",
    "            return list\n",
    "        \n",
    "        small_list = []\n",
    "        big_list = []\n",
    "        pivot = list[len(list) // 2]\n",
    "\n",
    "        for x in list:\n",
    "            if x < pivot:\n",
    "                small_list.append(x)\n",
    "            elif x > pivot:\n",
    "                big_list.append(x)\n",
    "\n",
    "        return self.quickSort(small_list) + [pivot] + self.quickSort(big_list)\n",
    "\n",
    "sorting = SortingAlgorithms()\n",
    "sorting.quickSort([5, 42, 72, 7, 99, 1, 10, 14, 9])"
   ]
  },
  {
   "cell_type": "markdown",
   "metadata": {},
   "source": [
    "-------------------------------"
   ]
  },
  {
   "cell_type": "markdown",
   "metadata": {},
   "source": [
    "### Heap Sort\n",
    "* Time complexity O(N log(N)) / Space complexity O(1) "
   ]
  },
  {
   "cell_type": "code",
   "execution_count": 7,
   "metadata": {},
   "outputs": [
    {
     "data": {
      "text/plain": [
       "[1, 5, 7, 9, 10, 14, 42, 72, 99]"
      ]
     },
     "execution_count": 7,
     "metadata": {},
     "output_type": "execute_result"
    }
   ],
   "source": [
    "class SortingAlgorithms:\n",
    "\n",
    "    def heapify(self,list,n,index):\n",
    "        largest = index\n",
    "        left = 2 * index + 1\n",
    "        right = 2 * index + 2\n",
    "\n",
    "        if left < n and list[largest] < list[left]:\n",
    "            largest = left\n",
    "\n",
    "        if right < n and list[largest] < list[right]:\n",
    "            largest = right\n",
    "\n",
    "        if largest != index:\n",
    "            list[index], list[largest] = list[largest], list[index]\n",
    "            self.heapify(list,n,largest)\n",
    "\n",
    "    def heapSort(self,list):\n",
    "        n = len(list)\n",
    "\n",
    "        for i in range(n,-1,-1):\n",
    "            self.heapify(list,n,i)\n",
    "\n",
    "        for i in range(n-1,0,-1):\n",
    "            list[i], list[0] = list[0], list[i]\n",
    "            self.heapify(list,i,0)\n",
    "\n",
    "        return list\n",
    "\n",
    "sorting = SortingAlgorithms()\n",
    "sorting.heapSort([5, 42, 72, 7, 99, 1, 10, 14, 9])"
   ]
  },
  {
   "cell_type": "markdown",
   "metadata": {},
   "source": [
    "--------------------------------"
   ]
  }
 ],
 "metadata": {
  "kernelspec": {
   "display_name": "base",
   "language": "python",
   "name": "python3"
  },
  "language_info": {
   "codemirror_mode": {
    "name": "ipython",
    "version": 3
   },
   "file_extension": ".py",
   "mimetype": "text/x-python",
   "name": "python",
   "nbconvert_exporter": "python",
   "pygments_lexer": "ipython3",
   "version": "3.9.17"
  }
 },
 "nbformat": 4,
 "nbformat_minor": 2
}
